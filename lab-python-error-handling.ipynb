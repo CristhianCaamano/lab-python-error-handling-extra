{
 "cells": [
  {
   "cell_type": "markdown",
   "id": "25d7736c-ba17-4aff-b6bb-66eba20fbf4e",
   "metadata": {},
   "source": [
    "# Lab | Error Handling"
   ]
  },
  {
   "cell_type": "markdown",
   "id": "6f8e446f-16b4-4e21-92e7-9d3d1eb551b6",
   "metadata": {},
   "source": [
    "Objective: Practice how to identify, handle and recover from potential errors in Python code using try-except blocks."
   ]
  },
  {
   "cell_type": "markdown",
   "id": "e253e768-aed8-4791-a800-87add1204afa",
   "metadata": {},
   "source": [
    "## Challenge \n",
    "\n",
    "Paste here your lab *functions* solutions. Apply error handling techniques to each function using try-except blocks. "
   ]
  },
  {
   "cell_type": "markdown",
   "id": "9180ff86-c3fe-4152-a609-081a287fa1af",
   "metadata": {},
   "source": [
    "The try-except block in Python is designed to handle exceptions and provide a fallback mechanism when code encounters errors. By enclosing the code that could potentially throw errors in a try block, followed by specific or general exception handling in the except block, we can gracefully recover from errors and continue program execution.\n",
    "\n",
    "However, there may be cases where an input may not produce an immediate error, but still needs to be addressed. In such situations, it can be useful to explicitly raise an error using the \"raise\" keyword, either to draw attention to the issue or handle it elsewhere in the program.\n",
    "\n",
    "Modify the code to handle possible errors in Python, it is recommended to use `try-except-else-finally` blocks, incorporate the `raise` keyword where necessary, and print meaningful error messages to alert users of any issues that may occur during program execution.\n",
    "\n"
   ]
  },
  {
   "cell_type": "code",
   "execution_count": 10,
   "id": "cc2c441d-9dcf-4817-b097-cf6cbe440846",
   "metadata": {},
   "outputs": [],
   "source": [
    "products = ['t-shirt', 'mug', 'hat', 'book', 'keychain']\n",
    "\n",
    "def initialize_inventory(products):\n",
    "    inventory = {}\n",
    "    for product in products:\n",
    "        while True:\n",
    "            try:\n",
    "                quantity = int(input(f'Choose quantity of {product}: '))\n",
    "                if quantity < 0:\n",
    "                    raise ValueError(\"Quantity cannot be negative.\")\n",
    "                inventory[product] = quantity\n",
    "                break\n",
    "            except ValueError as e:\n",
    "                print(f\"Invalid input: {e}. Please enter a non-negative integer.\")\n",
    "    return inventory\n",
    "\n",
    "def get_customer_orders(products):\n",
    "    customer_orders = set()\n",
    "\n",
    "    while True:\n",
    "        try:\n",
    "            product = input(\"Enter the name of a product that the customer wants to order: \")\n",
    "            if product not in products:\n",
    "                raise ValueError(\"Invalid product name.\")\n",
    "            customer_orders.add(product)\n",
    "            answer = input(\"Do you want to add another product? (yes/no): \")\n",
    "            if answer.lower() in ['no', 'n']:\n",
    "                break\n",
    "        except ValueError as e:\n",
    "            print(e)\n",
    "    return customer_orders\n",
    "\n",
    "def update_inventory(customer_orders, inventory):\n",
    "    for product in customer_orders:\n",
    "        try:\n",
    "            if product in inventory:\n",
    "                if inventory[product] > 0:\n",
    "                    inventory[product] -= 1\n",
    "                else:\n",
    "                    print(f\"Out of stock for {product}.\")\n",
    "            else:\n",
    "                raise KeyError(f\"{product} is not in the inventory.\")\n",
    "        except KeyError as e:\n",
    "            print(e)\n",
    "    return inventory\n",
    "\n",
    "def calculate_order_statistics(customer_orders, products):\n",
    "    try:\n",
    "        total_products_ordered = len(customer_orders)\n",
    "        if len(products) == 0:\n",
    "            raise ValueError(\"Products list cannot be empty.\")\n",
    "        unique_products = set(products)\n",
    "        percentage = (total_products_ordered / len(unique_products)) * 100\n",
    "        return total_products_ordered, percentage\n",
    "    except ZeroDivisionError:\n",
    "        print(\"No products available to calculate percentage.\")\n",
    "        return 0, 0\n",
    "    except ValueError as e:\n",
    "        print(e)\n",
    "        return 0, 0\n",
    "\n",
    "def print_order_statistics(order_statistics):\n",
    "    try:\n",
    "        total_products_ordered, percentage_ordered = order_statistics\n",
    "        print(\"Order Statistics:\")\n",
    "        print(f\"Total Products Ordered: {total_products_ordered}\")\n",
    "        print(f\"Percentage of Products Ordered: {percentage_ordered}%\")\n",
    "    except Exception as e:\n",
    "        print(f\"An error occurred while printing order statistics: {e}\")\n",
    "\n",
    "def print_updated_inventory(inventory):\n",
    "    try:\n",
    "        print(\"Updated Inventory:\")\n",
    "        for product, quantity in inventory.items():\n",
    "            print(f\"{product}: {quantity}\")\n",
    "    except Exception as e:\n",
    "        print(f\"An error occurred while printing updated inventory: {e}\")"
   ]
  },
  {
   "cell_type": "code",
   "execution_count": 12,
   "id": "0cea9bf3-ee43-4903-954c-efe00d4aeaa4",
   "metadata": {},
   "outputs": [
    {
     "name": "stdin",
     "output_type": "stream",
     "text": [
      "Choose quantity of t-shirt:  5\n",
      "Choose quantity of mug:  5\n",
      "Choose quantity of hat:  5\n",
      "Choose quantity of book:  5\n",
      "Choose quantity of keychain:  5\n",
      "Enter the name of a product that the customer wants to order:  mug\n",
      "Do you want to add another product? (yes/no):  yes\n",
      "Enter the name of a product that the customer wants to order:  hat\n",
      "Do you want to add another product? (yes/no):  no\n"
     ]
    },
    {
     "name": "stdout",
     "output_type": "stream",
     "text": [
      "Order Statistics:\n",
      "Total Products Ordered: 2\n",
      "Percentage of Products Ordered: 40.0%\n",
      "Updated Inventory:\n",
      "t-shirt: 5\n",
      "mug: 4\n",
      "hat: 4\n",
      "book: 5\n",
      "keychain: 5\n"
     ]
    }
   ],
   "source": [
    "inventory = initialize_inventory(products)\n",
    "customer_orders = get_customer_orders(products)\n",
    "updated_inventory = update_inventory(customer_orders, inventory)\n",
    "order_statistics = calculate_order_statistics(customer_orders, products)\n",
    "print_order_statistics(order_statistics)\n",
    "print_updated_inventory(updated_inventory)"
   ]
  },
  {
   "cell_type": "code",
   "execution_count": null,
   "id": "15ccfe7f-1523-4128-b189-ce63f7b8950f",
   "metadata": {},
   "outputs": [],
   "source": []
  }
 ],
 "metadata": {
  "kernelspec": {
   "display_name": "Python 3 (ipykernel)",
   "language": "python",
   "name": "python3"
  },
  "language_info": {
   "codemirror_mode": {
    "name": "ipython",
    "version": 3
   },
   "file_extension": ".py",
   "mimetype": "text/x-python",
   "name": "python",
   "nbconvert_exporter": "python",
   "pygments_lexer": "ipython3",
   "version": "3.12.7"
  }
 },
 "nbformat": 4,
 "nbformat_minor": 5
}
